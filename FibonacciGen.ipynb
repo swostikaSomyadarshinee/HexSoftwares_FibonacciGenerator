{
 "cells": [
  {
   "cell_type": "code",
   "execution_count": 1,
   "id": "f44e3077-1dbb-4569-b878-2c63dba74be6",
   "metadata": {},
   "outputs": [],
   "source": [
    "def infinite_fib():\n",
    "    a, b = 0, 1\n",
    "    while True:\n",
    "        yield a\n",
    "        a, b = b, a + b"
   ]
  },
  {
   "cell_type": "code",
   "execution_count": 2,
   "id": "64166840-8c1b-435d-bc0c-494eb9b14ba0",
   "metadata": {},
   "outputs": [],
   "source": [
    "fib_gen = infinite_fib()"
   ]
  },
  {
   "cell_type": "code",
   "execution_count": 8,
   "id": "5cbe3273-a521-4146-bfb2-a9d913977840",
   "metadata": {},
   "outputs": [
    {
     "name": "stdout",
     "output_type": "stream",
     "text": [
      "5\n"
     ]
    }
   ],
   "source": [
    "print(next(fib_gen))"
   ]
  }
 ],
 "metadata": {
  "kernelspec": {
   "display_name": "Python 3 (ipykernel)",
   "language": "python",
   "name": "python3"
  },
  "language_info": {
   "codemirror_mode": {
    "name": "ipython",
    "version": 3
   },
   "file_extension": ".py",
   "mimetype": "text/x-python",
   "name": "python",
   "nbconvert_exporter": "python",
   "pygments_lexer": "ipython3",
   "version": "3.11.7"
  }
 },
 "nbformat": 4,
 "nbformat_minor": 5
}
